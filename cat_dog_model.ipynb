{
 "cells": [
  {
   "cell_type": "code",
   "execution_count": 2,
   "metadata": {},
   "outputs": [],
   "source": [
    "import tensorflow as tf\n",
    "from tensorflow.keras.models import Sequential\n",
    "from tensorflow.keras.layers import Dense, Dropout, Activation, Flatten, Conv2D, MaxPooling2D\n",
    "from keras.utils.np_utils import normalize\n",
    "from tensorflow.keras.callbacks import TensorBoard\n",
    "\n",
    "import time\n",
    "import pickle\n",
    "import json\n",
    "\n",
    "with open('settings.json', 'r') as f:\n",
    "    config = json.load(f) "
   ]
  },
  {
   "cell_type": "code",
   "execution_count": 3,
   "metadata": {},
   "outputs": [],
   "source": [
    "\n",
    "with open(config['FEATURES_FILE'], 'rb') as f:\n",
    "    features = pickle.load(f)\n",
    "with open(config['LABELS_FILE'], 'rb') as f:\n",
    "    labels = pickle.load(f)"
   ]
  },
  {
   "cell_type": "code",
   "execution_count": 4,
   "metadata": {},
   "outputs": [],
   "source": [
    "features_normalized = features / 255.0\n"
   ]
  },
  {
   "cell_type": "code",
   "execution_count": 8,
   "metadata": {},
   "outputs": [
    {
     "name": "stdout",
     "output_type": "stream",
     "text": [
      "702/702 [==============================] - 532s 750ms/step - loss: 0.6851 - accuracy: 0.5556 - val_loss: 0.6587 - val_accuracy: 0.6156\n"
     ]
    },
    {
     "data": {
      "text/plain": [
       "<keras.callbacks.History at 0x14da0606d00>"
      ]
     },
     "execution_count": 8,
     "metadata": {},
     "output_type": "execute_result"
    }
   ],
   "source": [
    "def train(conv_layers, dense_layers, n_nodes):\n",
    "    NAME = f\"{conv_layers}-conv-{dense_layers}-dense-{n_nodes}-nodes-{int(time.time())}\"\n",
    "    model = Sequential()\n",
    "\n",
    "    model.add(Conv2D(64, (4, 4), input_shape=features_normalized.shape[1:], activation='relu'))\n",
    "    model.add(MaxPooling2D(pool_size=(2,2)))\n",
    "\n",
    "\n",
    "    model.add(Conv2D(64, (4, 4), activation='relu'))\n",
    "    model.add(MaxPooling2D(pool_size=(2,2)))\n",
    "\n",
    "    model.add(Flatten())\n",
    "    model.add(Dense(64))\n",
    "\n",
    "    model.add(Dense(1, activation='sigmoid'))\n",
    "    model.compile(\n",
    "        loss=\"binary_crossentropy\",\n",
    "        optimizer=\"adam\",\n",
    "        metrics=[\"accuracy\"],\n",
    "        callbacks=[tensorboard]\n",
    "    )\n",
    "\n",
    "    model.fit(features_normalized, labels, batch_size=32, validation_split=0.1, epochs=1)"
   ]
  }
 ],
 "metadata": {
  "kernelspec": {
   "display_name": "Python 3.9.12 ('nn')",
   "language": "python",
   "name": "python3"
  },
  "language_info": {
   "codemirror_mode": {
    "name": "ipython",
    "version": 3
   },
   "file_extension": ".py",
   "mimetype": "text/x-python",
   "name": "python",
   "nbconvert_exporter": "python",
   "pygments_lexer": "ipython3",
   "version": "3.9.12"
  },
  "orig_nbformat": 4,
  "vscode": {
   "interpreter": {
    "hash": "38b066509b68743206bf83d2e9331b72142bc9a76675d9fdd282baf9591d95c1"
   }
  }
 },
 "nbformat": 4,
 "nbformat_minor": 2
}

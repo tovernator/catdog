{
 "cells": [
  {
   "cell_type": "code",
   "execution_count": 1,
   "metadata": {},
   "outputs": [],
   "source": [
    "import numpy as np\n",
    "import matplotlib.pyplot as plt\n",
    "import os\n",
    "import cv2\n",
    "\n",
    "import json\n",
    "import pickle\n",
    "\n",
    "import random\n",
    "\n",
    "with open('settings.json', 'r') as f:\n",
    "    config = json.load(f) "
   ]
  },
  {
   "cell_type": "code",
   "execution_count": 2,
   "id": "8fd8deaa",
   "metadata": {},
   "outputs": [],
   "source": [
    "def create_data():\n",
    "    training_data = []\n",
    "    for category in config['CATEGORIES']:\n",
    "        path = os.path.join(config['DATA_DIR'], category)\n",
    "        class_num = config['CATEGORIES'].index(category)\n",
    "\n",
    "        for img in os.listdir(path):\n",
    "            try:\n",
    "                img_array = cv2.imread(os.path.join(path, img), cv2.IMREAD_GRAYSCALE) #TODO Change to cv2.COLOR for COLORMODE\n",
    "                img_array = cv2.resize(img_array, (config['IMG_SIZE'], config['IMG_SIZE']))\n",
    "                training_data.append([img_array, class_num])\n",
    "            except Exception as e:\n",
    "                pass\n",
    "    return training_data\n",
    "data = create_data()\n"
   ]
  },
  {
   "cell_type": "code",
   "execution_count": 3,
   "id": "460be437",
   "metadata": {},
   "outputs": [
    {
     "name": "stdout",
     "output_type": "stream",
     "text": [
      "1\n",
      "0\n",
      "1\n",
      "0\n",
      "1\n",
      "0\n",
      "0\n",
      "1\n",
      "0\n",
      "0\n"
     ]
    }
   ],
   "source": [
    "random.shuffle(data)\n",
    "\n",
    "for sample in data[:10]:\n",
    "    print(sample[1])\n"
   ]
  },
  {
   "cell_type": "code",
   "execution_count": 4,
   "id": "2e423f0b",
   "metadata": {},
   "outputs": [],
   "source": [
    "features = []\n",
    "labels = []\n",
    "\n",
    "for f, l in data:\n",
    "    features.append(f)\n",
    "    labels.append(l)\n",
    "features = np.array(features).reshape(-1, config['IMG_SIZE'], config['IMG_SIZE'], 1) #TODO Color mode reshape(-1, config['IMG_SIZE'], config['IMG_SIZE'], 3)\n",
    "labels = np.array(labels)\n",
    "\n"
   ]
  },
  {
   "cell_type": "code",
   "execution_count": 6,
   "id": "cb136dd5",
   "metadata": {},
   "outputs": [],
   "source": [
    "\n"
   ]
  },
  {
   "cell_type": "code",
   "execution_count": null,
   "id": "67b9d0b2",
   "metadata": {},
   "outputs": [],
   "source": []
  }
 ],
 "metadata": {
  "kernelspec": {
   "display_name": "Python 3.9.12 ('nn')",
   "language": "python",
   "name": "python3"
  },
  "language_info": {
   "codemirror_mode": {
    "name": "ipython",
    "version": 3
   },
   "file_extension": ".py",
   "mimetype": "text/x-python",
   "name": "python",
   "nbconvert_exporter": "python",
   "pygments_lexer": "ipython3",
   "version": "3.9.12"
  },
  "vscode": {
   "interpreter": {
    "hash": "38b066509b68743206bf83d2e9331b72142bc9a76675d9fdd282baf9591d95c1"
   }
  }
 },
 "nbformat": 4,
 "nbformat_minor": 5
}
